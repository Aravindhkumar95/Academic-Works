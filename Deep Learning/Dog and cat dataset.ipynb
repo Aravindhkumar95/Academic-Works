{
  "nbformat": 4,
  "nbformat_minor": 0,
  "metadata": {
    "colab": {
      "name": "Dog_and_cat_example_Assignment_Aravindhkumar_400240714.ipynb",
      "provenance": [],
      "collapsed_sections": []
    },
    "kernelspec": {
      "name": "python3",
      "display_name": "Python 3"
    },
    "language_info": {
      "codemirror_mode": {
        "name": "ipython",
        "version": 3
      },
      "file_extension": ".py",
      "mimetype": "text/x-python",
      "name": "python",
      "nbconvert_exporter": "python",
      "pygments_lexer": "ipython3",
      "version": "3.6.7"
    },
    "accelerator": "TPU"
  },
  "cells": [
    {
      "cell_type": "code",
      "metadata": {
        "id": "dlQXG8j1XrPt",
        "colab_type": "code",
        "colab": {
          "base_uri": "https://localhost:8080/",
          "height": 35
        },
        "outputId": "64c248e1-2057-4e1f-9fde-60ac58326df7"
      },
      "source": [
        "%tensorflow_version 1.x"
      ],
      "execution_count": 1,
      "outputs": [
        {
          "output_type": "stream",
          "text": [
            "TensorFlow 1.x selected.\n"
          ],
          "name": "stdout"
        }
      ]
    },
    {
      "cell_type": "code",
      "metadata": {
        "colab_type": "code",
        "id": "fEEIENZy_u_G",
        "outputId": "f98997ef-8495-40e4-c7f3-e6cb349b6a92",
        "colab": {
          "base_uri": "https://localhost:8080/",
          "height": 35
        }
      },
      "source": [
        "import os\n",
        "import keras\n",
        "import numpy as np\n",
        "from PIL import Image\n",
        "import tensorflow as tf\n",
        "from random import randint\n",
        "import matplotlib.pyplot as plt\n",
        "from keras import backend as k\n",
        "from keras.utils import np_utils\n",
        "from keras.optimizers import adam\n",
        "from keras.models import Sequential\n",
        "from sklearn.metrics import confusion_matrix\n",
        "from sklearn.preprocessing import MinMaxScaler\n",
        "from keras.preprocessing.image import img_to_array\n",
        "from keras.metrics import categorical_crossentropy\n",
        "#from sklearn.cross_validation import train_test_split\n",
        "from keras.layers.core import Dense,Dropout,Activation,Flatten\n",
        "from keras.layers.convolutional import Convolution2D,MaxPooling2D"
      ],
      "execution_count": 2,
      "outputs": [
        {
          "output_type": "stream",
          "text": [
            "Using TensorFlow backend.\n"
          ],
          "name": "stderr"
        }
      ]
    },
    {
      "cell_type": "code",
      "metadata": {
        "id": "viQBUl6dLDLV",
        "colab_type": "code",
        "outputId": "1d32d0a7-f779-49ad-fbca-edda7fa5a603",
        "colab": {
          "base_uri": "https://localhost:8080/",
          "height": 243
        }
      },
      "source": [
        "import pprint\n",
        "if 'COLAB_TPU_ADDR' not in os.environ:\n",
        "  print('ERROR: Not connected to a TPU runtime; ')\n",
        "else:\n",
        "  tpu_address = 'grpc://' + os.environ['COLAB_TPU_ADDR']\n",
        "  print ('TPU address is', tpu_address)\n",
        "\n",
        "  with tf.Session(tpu_address) as session:\n",
        "    devices = session.list_devices()\n",
        "    \n",
        "  print('TPU devices:')\n",
        "  pprint.pprint(devices)"
      ],
      "execution_count": 3,
      "outputs": [
        {
          "output_type": "stream",
          "text": [
            "TPU address is grpc://10.104.234.218:8470\n",
            "TPU devices:\n",
            "[_DeviceAttributes(/job:tpu_worker/replica:0/task:0/device:CPU:0, CPU, -1, 6552516600158282731),\n",
            " _DeviceAttributes(/job:tpu_worker/replica:0/task:0/device:XLA_CPU:0, XLA_CPU, 17179869184, 1316345504738240235),\n",
            " _DeviceAttributes(/job:tpu_worker/replica:0/task:0/device:TPU:0, TPU, 17179869184, 14302368528301209452),\n",
            " _DeviceAttributes(/job:tpu_worker/replica:0/task:0/device:TPU:1, TPU, 17179869184, 8927047933136912603),\n",
            " _DeviceAttributes(/job:tpu_worker/replica:0/task:0/device:TPU:2, TPU, 17179869184, 2081759787317601350),\n",
            " _DeviceAttributes(/job:tpu_worker/replica:0/task:0/device:TPU:3, TPU, 17179869184, 2776651117873334846),\n",
            " _DeviceAttributes(/job:tpu_worker/replica:0/task:0/device:TPU:4, TPU, 17179869184, 14221245160812514008),\n",
            " _DeviceAttributes(/job:tpu_worker/replica:0/task:0/device:TPU:5, TPU, 17179869184, 1790133980588591265),\n",
            " _DeviceAttributes(/job:tpu_worker/replica:0/task:0/device:TPU:6, TPU, 17179869184, 10835839071440397374),\n",
            " _DeviceAttributes(/job:tpu_worker/replica:0/task:0/device:TPU:7, TPU, 17179869184, 14723514621619787437),\n",
            " _DeviceAttributes(/job:tpu_worker/replica:0/task:0/device:TPU_SYSTEM:0, TPU_SYSTEM, 8589934592, 10290008282667266642)]\n"
          ],
          "name": "stdout"
        }
      ]
    },
    {
      "cell_type": "code",
      "metadata": {
        "colab_type": "code",
        "id": "s3vZfYQ1_u_L",
        "colab": {}
      },
      "source": [
        "#process for reproducing same result\n",
        "import os\n",
        "import random as rm\n",
        "\n",
        "# The below is necessary in Python 3.2.3 onwards to\n",
        "# have reproducible behavior for certain hash-based operations.\n",
        "# See these references for further details:\n",
        "# https://docs.python.org/3.4/using/cmdline.html#envvar-PYTHONHASHSEED\n",
        "# https://github.com/fchollet/keras/issues/2280#issuecomment-306959926\n",
        "os.environ['PYTHONHASHSEED']='0'\n",
        "\n",
        "# The below is necessary for starting Numpy generated random numbers\n",
        "# in a well-defined initial state.\n",
        "np.random.seed(37)\n",
        "\n",
        "# The below is necessary for starting core Python generated random numbers\n",
        "# in a well-defined state.\n",
        "rm.seed(1245)\n",
        "\n",
        "# The below tf.set_random_seed() will make random number generation\n",
        "# in the TensorFlow backend have a well-defined initial state.\n",
        "# For further details, see: https://www.tensorflow.org/api_docs/python/tf/set_random_seed\n",
        "tf.compat.v1.random.set_random_seed\n",
        "\n",
        "# Force TensorFlow to use single thread.\n",
        "# Multiple threads are a potential source of\n",
        "# non-reproducible results.\n",
        "# For further details, see: https://stackoverflow.com/questions/42022950/which-seeds-have-to-be-set-where-to-realize-100-reproducibility-of-training-res\n",
        "from keras import backend as k\n",
        "sess=tf.compat.v1.Session(target='', graph=None, config=None)\n",
        "k.set_session(sess)\n"
      ],
      "execution_count": 0,
      "outputs": []
    },
    {
      "cell_type": "code",
      "metadata": {
        "colab_type": "code",
        "id": "oZZenf8jAMzx",
        "outputId": "706ea058-5cbb-47b5-9642-41868ed42273",
        "colab": {
          "base_uri": "https://localhost:8080/",
          "height": 35
        }
      },
      "source": [
        "from google.colab import drive\n",
        "drive.mount('/content/drive')"
      ],
      "execution_count": 5,
      "outputs": [
        {
          "output_type": "stream",
          "text": [
            "Drive already mounted at /content/drive; to attempt to forcibly remount, call drive.mount(\"/content/drive\", force_remount=True).\n"
          ],
          "name": "stdout"
        }
      ]
    },
    {
      "cell_type": "code",
      "metadata": {
        "colab_type": "code",
        "id": "8EbBfD5sBF0A",
        "colab": {}
      },
      "source": [
        "import zipfile\n",
        "with zipfile.ZipFile(\"/content/drive/My Drive/app1/cat-and-dog.zip\",\"r\") as zip_ref:\n",
        "     zip_ref.extractall(\"/content/drive/My Drive/app1/\")"
      ],
      "execution_count": 0,
      "outputs": []
    },
    {
      "cell_type": "code",
      "metadata": {
        "colab_type": "code",
        "id": "qdFMoY21_u_P",
        "colab": {}
      },
      "source": [
        "pp='/content/drive/My Drive/app1/'\n",
        "train_path=pp+'cat-and-dog/training_set/'\n",
        "valid_path=pp+'cat-and-dog/valid_set/'\n",
        "test_path=pp+'cat-and-dog/test_set/'"
      ],
      "execution_count": 0,
      "outputs": []
    },
    {
      "cell_type": "markdown",
      "metadata": {
        "colab_type": "text",
        "id": "ZeD3T6RA_u_S"
      },
      "source": [
        "The ImageDataGenerator class has two methods flow() and flow_from_directory() to read the images from a big numpy array and folders containing images.\n",
        "\n",
        "1- here we remove the colors because in dog vs cat is not a key feature makes the array a 2D grayscale make a 2D matrix while if we do not apply grayscale we have a BRG image which generate a tensore\n",
        "\n",
        "2- The images should be the same size\n",
        "\n",
        "3- check to have comparable data for each categories, it they are not comparable apply weigth on the loss function\n",
        "\n",
        "4- Shuffle data for faster learning\n",
        "\n",
        "5-Normalize data with keras.util.normalize of as max of image pixel is 255 can be divided by 255."
      ]
    },
    {
      "cell_type": "code",
      "metadata": {
        "colab_type": "code",
        "id": "wQ55u5l4_u_T",
        "outputId": "08dbc646-309d-48fb-e13d-402dfec6e9ff",
        "colab": {
          "base_uri": "https://localhost:8080/",
          "height": 69
        }
      },
      "source": [
        "from keras.preprocessing.image import ImageDataGenerator\n",
        "img_size=224\n",
        "datagen = ImageDataGenerator(rescale=1./255)\n",
        "train_batches=datagen.flow_from_directory(\n",
        "               train_path,\n",
        "               target_size=(img_size,img_size),\n",
        "               classes=['dogs','cats'],\n",
        "               batch_size=10,\n",
        "               color_mode=\"grayscale\")\n",
        "valid_batches=datagen.flow_from_directory(\n",
        "               valid_path,\n",
        "               target_size=(img_size,img_size),\n",
        "               classes=['dogs','cats'],\n",
        "               batch_size=4,\n",
        "               color_mode=\"grayscale\")\n",
        "test_batches=datagen.flow_from_directory(\n",
        "               test_path,\n",
        "               target_size=(img_size,img_size),\n",
        "               classes=['dogs','cats'],\n",
        "               batch_size=4,\n",
        "               color_mode=\"grayscale\")\n"
      ],
      "execution_count": 8,
      "outputs": [
        {
          "output_type": "stream",
          "text": [
            "Found 8005 images belonging to 2 classes.\n",
            "Found 2023 images belonging to 2 classes.\n",
            "Found 20 images belonging to 2 classes.\n"
          ],
          "name": "stdout"
        }
      ]
    },
    {
      "cell_type": "code",
      "metadata": {
        "colab_type": "code",
        "id": "j5LEOUM8_u_Z",
        "colab": {}
      },
      "source": [
        "import numpy as np\n",
        "#np.size(train_batches)"
      ],
      "execution_count": 0,
      "outputs": []
    },
    {
      "cell_type": "code",
      "metadata": {
        "colab_type": "code",
        "id": "VWZAJCfx_u_e",
        "colab": {}
      },
      "source": [
        "img,lables=next(train_batches)\n"
      ],
      "execution_count": 0,
      "outputs": []
    },
    {
      "cell_type": "code",
      "metadata": {
        "colab_type": "code",
        "id": "atbt39Ev_u_h",
        "outputId": "933a1bc8-37fa-4fe2-a04a-5db6087b8b96",
        "colab": {
          "base_uri": "https://localhost:8080/",
          "height": 35
        }
      },
      "source": [
        "np.shape(img)\n"
      ],
      "execution_count": 11,
      "outputs": [
        {
          "output_type": "execute_result",
          "data": {
            "text/plain": [
              "(10, 224, 224, 1)"
            ]
          },
          "metadata": {
            "tags": []
          },
          "execution_count": 11
        }
      ]
    },
    {
      "cell_type": "code",
      "metadata": {
        "colab_type": "code",
        "id": "KpUfuNxl_u_m",
        "outputId": "e0c7fd71-4b4f-4e1e-8527-9367cb69d4b6",
        "colab": {
          "base_uri": "https://localhost:8080/",
          "height": 35
        }
      },
      "source": [
        "#Here the picture is 224,224 and 1 is showing the grayscale. if we use RBG the 1 will convert to 3\n",
        "np.shape(img[0])\n"
      ],
      "execution_count": 12,
      "outputs": [
        {
          "output_type": "execute_result",
          "data": {
            "text/plain": [
              "(224, 224, 1)"
            ]
          },
          "metadata": {
            "tags": []
          },
          "execution_count": 12
        }
      ]
    },
    {
      "cell_type": "code",
      "metadata": {
        "colab_type": "code",
        "id": "IGTzIxXu_u_s",
        "outputId": "4f079cf8-632e-449f-956a-d74194634c84",
        "colab": {
          "base_uri": "https://localhost:8080/",
          "height": 35
        }
      },
      "source": [
        "np.shape(img[0][:,:,0])\n"
      ],
      "execution_count": 13,
      "outputs": [
        {
          "output_type": "execute_result",
          "data": {
            "text/plain": [
              "(224, 224)"
            ]
          },
          "metadata": {
            "tags": []
          },
          "execution_count": 13
        }
      ]
    },
    {
      "cell_type": "code",
      "metadata": {
        "colab_type": "code",
        "id": "ZWZcNSCp_u_w",
        "outputId": "60840de6-729b-4d57-c9b2-075143c16e01",
        "colab": {
          "base_uri": "https://localhost:8080/",
          "height": 269
        }
      },
      "source": [
        "for i in range(0,1):\n",
        "    image = img[i]\n",
        "    plt.imshow(image[:,:,0], cmap='gray')\n",
        "    plt.show()\n",
        "#.astype('uint8')\n"
      ],
      "execution_count": 14,
      "outputs": [
        {
          "output_type": "display_data",
          "data": {
            "image/png": "[encoded data removed]",
            "text/plain": [
              "<Figure size 432x288 with 1 Axes>"
            ]
          },
          "metadata": {
            "tags": []
          }
        }
      ]
    },
    {
      "cell_type": "markdown",
      "metadata": {
        "colab_type": "text",
        "id": "dZdyfNV0_u_0"
      },
      "source": [
        "# Build CNN"
      ]
    },
    {
      "cell_type": "markdown",
      "metadata": {
        "colab_type": "text",
        "id": "JvOXZ7T1_u_2"
      },
      "source": [
        "1-convoltion layer input are: number of the features , convolution window and the shape of each image\n",
        "2- max pool input: is the window of max pooling\n",
        "\n",
        "3-Here we apply Convolution filter=3*3 and grayscale image=(224,224,1)"
      ]
    },
    {
      "cell_type": "code",
      "metadata": {
        "colab_type": "code",
        "id": "55cSaFfv_u_3",
        "colab": {}
      },
      "source": [
        "# here we can replace img.shape[1:] by (224,224,1)\n",
        "import tensorflow as tf\n",
        "model=Sequential()\n",
        "model.add(Convolution2D(32,(3,3),input_shape=img.shape[1:])) \n",
        "model.add(Activation(\"relu\"))\n",
        "model.add(MaxPooling2D(pool_size=(2,2)))\n",
        "\n",
        "model.add(Convolution2D(64,(3,3),input_shape=img.shape[1:]))\n",
        "model.add(Activation(\"relu\"))\n",
        "model.add(MaxPooling2D(pool_size=(2,2)))\n",
        "\n",
        "# Dense layer is one dimentional data set while convolution is 2 dimentional dataset\n",
        "model.add(Flatten())\n",
        "model.add(Activation(\"relu\"))\n",
        "\n",
        "model.add(Dense(64))\n",
        "model.add(Activation(\"relu\"))\n",
        "\n",
        "model.add(Dense(2))\n",
        "model.add(Activation(tf.nn.softmax)) #sigmoid\n"
      ],
      "execution_count": 0,
      "outputs": []
    },
    {
      "cell_type": "code",
      "metadata": {
        "colab_type": "code",
        "id": "6mBkqjlK_u_6",
        "outputId": "c475a209-ee95-4a39-eef6-85cc083a999f",
        "colab": {
          "base_uri": "https://localhost:8080/",
          "height": 35
        }
      },
      "source": [
        "model\n"
      ],
      "execution_count": 17,
      "outputs": [
        {
          "output_type": "execute_result",
          "data": {
            "text/plain": [
              "<keras.engine.sequential.Sequential at 0x7fbd6b2d1e80>"
            ]
          },
          "metadata": {
            "tags": []
          },
          "execution_count": 17
        }
      ]
    },
    {
      "cell_type": "code",
      "metadata": {
        "colab_type": "code",
        "id": "TkCzywwG_u__",
        "outputId": "212ead71-bae3-4be2-d1d6-d17fa5c01fd2",
        "colab": {
          "base_uri": "https://localhost:8080/",
          "height": 572
        }
      },
      "source": [
        "model.summary()\n"
      ],
      "execution_count": 18,
      "outputs": [
        {
          "output_type": "stream",
          "text": [
            "Model: \"sequential_2\"\n",
            "_________________________________________________________________\n",
            "Layer (type)                 Output Shape              Param #   \n",
            "=================================================================\n",
            "conv2d_3 (Conv2D)            (None, 222, 222, 32)      320       \n",
            "_________________________________________________________________\n",
            "activation_6 (Activation)    (None, 222, 222, 32)      0         \n",
            "_________________________________________________________________\n",
            "max_pooling2d_3 (MaxPooling2 (None, 111, 111, 32)      0         \n",
            "_________________________________________________________________\n",
            "conv2d_4 (Conv2D)            (None, 109, 109, 64)      18496     \n",
            "_________________________________________________________________\n",
            "activation_7 (Activation)    (None, 109, 109, 64)      0         \n",
            "_________________________________________________________________\n",
            "max_pooling2d_4 (MaxPooling2 (None, 54, 54, 64)        0         \n",
            "_________________________________________________________________\n",
            "flatten_2 (Flatten)          (None, 186624)            0         \n",
            "_________________________________________________________________\n",
            "activation_8 (Activation)    (None, 186624)            0         \n",
            "_________________________________________________________________\n",
            "dense_3 (Dense)              (None, 64)                11944000  \n",
            "_________________________________________________________________\n",
            "activation_9 (Activation)    (None, 64)                0         \n",
            "_________________________________________________________________\n",
            "dense_4 (Dense)              (None, 2)                 130       \n",
            "_________________________________________________________________\n",
            "activation_10 (Activation)   (None, 2)                 0         \n",
            "=================================================================\n",
            "Total params: 11,962,946\n",
            "Trainable params: 11,962,946\n",
            "Non-trainable params: 0\n",
            "_________________________________________________________________\n"
          ],
          "name": "stdout"
        }
      ]
    },
    {
      "cell_type": "markdown",
      "metadata": {
        "colab_type": "text",
        "id": "IaCiNYSv_vAF"
      },
      "source": [
        "batch size tell you how many data pass at the time\n",
        "\n",
        "optimizers in keras\n",
        "\n",
        "http://www.machineintellegence.com/different-types-of-activation-functions-in-keras/"
      ]
    },
    {
      "cell_type": "code",
      "metadata": {
        "colab_type": "code",
        "id": "1DeZlCvi_vAI",
        "colab": {
          "base_uri": "https://localhost:8080/",
          "height": 107
        },
        "outputId": "af354471-a5b4-459d-c644-2e547e038be8"
      },
      "source": [
        "model.compile(optimizer=\"adam\",loss='categorical_crossentropy',metrics=[\"categorical_accuracy\"])\n",
        "#binary_crossentropy\n",
        "#categorical_crossentropy\n"
      ],
      "execution_count": 19,
      "outputs": [
        {
          "output_type": "stream",
          "text": [
            "WARNING:tensorflow:From /usr/local/lib/python3.6/dist-packages/keras/optimizers.py:793: The name tf.train.Optimizer is deprecated. Please use tf.compat.v1.train.Optimizer instead.\n",
            "\n",
            "WARNING:tensorflow:From /usr/local/lib/python3.6/dist-packages/keras/backend/tensorflow_backend.py:3576: The name tf.log is deprecated. Please use tf.math.log instead.\n",
            "\n"
          ],
          "name": "stdout"
        }
      ]
    },
    {
      "cell_type": "markdown",
      "metadata": {
        "colab_type": "text",
        "id": "_xi8kPRl_vAN"
      },
      "source": [
        "By setting verbose 0, 1 or 2 you just say how do you want to 'see' the training progress for each epoch.\n",
        "\n",
        "verbose=0 shows you nothing (silent)\n",
        "\n",
        "verbose=1 shows you an animated progress with a progress bar\n",
        "\n",
        "verbose=2 shows the number of epoch:\n",
        "\n"
      ]
    },
    {
      "cell_type": "markdown",
      "metadata": {
        "colab_type": "text",
        "id": "72gvFXQi_vAO"
      },
      "source": [
        "steps_per_epoch: Total number of steps (batches of samples) to yield from generator before declaring one epoch finished and starting the next epoch. It should typically be equal to the number of unique samples of your dataset divided by the batch size."
      ]
    },
    {
      "cell_type": "code",
      "metadata": {
        "id": "mfQJUjRBRLHB",
        "colab_type": "code",
        "outputId": "5ff37aaa-a436-49df-a410-8796ee75cbe3",
        "colab": {
          "base_uri": "https://localhost:8080/",
          "height": 35
        }
      },
      "source": [
        "valid_batches.samples"
      ],
      "execution_count": 20,
      "outputs": [
        {
          "output_type": "execute_result",
          "data": {
            "text/plain": [
              "2023"
            ]
          },
          "metadata": {
            "tags": []
          },
          "execution_count": 20
        }
      ]
    },
    {
      "cell_type": "code",
      "metadata": {
        "colab_type": "code",
        "id": "9qyWNsJa_vAQ",
        "outputId": "d38a804d-adf9-4edd-815a-ac1142cb2130",
        "colab": {
          "base_uri": "https://localhost:8080/",
          "height": 661
        }
      },
      "source": [
        "model.fit_generator(\n",
        "                generator=train_batches,\n",
        "                validation_data=valid_batches,\n",
        "                steps_per_epoch=150,#train_batches.samples(8005)/train_batches.batch_size(50),\n",
        "                validation_steps=4,#valid_batches.samples/valid_batches.batch_size,\n",
        "                verbose=2,\n",
        "                shuffle=False,\n",
        "                #callbacks=[checkpointer1], \n",
        "                epochs=10)\n"
      ],
      "execution_count": 21,
      "outputs": [
        {
          "output_type": "stream",
          "text": [
            "WARNING:tensorflow:From /tensorflow-1.15.2/python3.6/tensorflow_core/python/ops/math_grad.py:1424: where (from tensorflow.python.ops.array_ops) is deprecated and will be removed in a future version.\n",
            "Instructions for updating:\n",
            "Use tf.where in 2.0, which has the same broadcast rule as np.where\n",
            "WARNING:tensorflow:From /usr/local/lib/python3.6/dist-packages/keras/backend/tensorflow_backend.py:1033: The name tf.assign_add is deprecated. Please use tf.compat.v1.assign_add instead.\n",
            "\n",
            "WARNING:tensorflow:From /usr/local/lib/python3.6/dist-packages/keras/backend/tensorflow_backend.py:1020: The name tf.assign is deprecated. Please use tf.compat.v1.assign instead.\n",
            "\n",
            "Epoch 1/10\n",
            "WARNING:tensorflow:From /usr/local/lib/python3.6/dist-packages/keras/backend/tensorflow_backend.py:190: The name tf.get_default_session is deprecated. Please use tf.compat.v1.get_default_session instead.\n",
            "\n",
            "WARNING:tensorflow:From /usr/local/lib/python3.6/dist-packages/keras/backend/tensorflow_backend.py:207: The name tf.global_variables is deprecated. Please use tf.compat.v1.global_variables instead.\n",
            "\n",
            "WARNING:tensorflow:From /usr/local/lib/python3.6/dist-packages/keras/backend/tensorflow_backend.py:216: The name tf.is_variable_initialized is deprecated. Please use tf.compat.v1.is_variable_initialized instead.\n",
            "\n",
            "WARNING:tensorflow:From /usr/local/lib/python3.6/dist-packages/keras/backend/tensorflow_backend.py:223: The name tf.variables_initializer is deprecated. Please use tf.compat.v1.variables_initializer instead.\n",
            "\n",
            " - 119s - loss: 0.7702 - categorical_accuracy: 0.5413 - val_loss: 0.6821 - val_categorical_accuracy: 0.6250\n",
            "Epoch 2/10\n",
            " - 117s - loss: 0.6885 - categorical_accuracy: 0.5880 - val_loss: 0.6483 - val_categorical_accuracy: 0.6875\n",
            "Epoch 3/10\n",
            " - 114s - loss: 0.6694 - categorical_accuracy: 0.6153 - val_loss: 0.5787 - val_categorical_accuracy: 0.8125\n",
            "Epoch 4/10\n",
            " - 114s - loss: 0.6660 - categorical_accuracy: 0.6127 - val_loss: 0.6554 - val_categorical_accuracy: 0.6875\n",
            "Epoch 5/10\n",
            " - 111s - loss: 0.6402 - categorical_accuracy: 0.6613 - val_loss: 0.6010 - val_categorical_accuracy: 0.8125\n",
            "Epoch 6/10\n",
            " - 110s - loss: 0.6002 - categorical_accuracy: 0.6920 - val_loss: 0.5126 - val_categorical_accuracy: 0.7500\n",
            "Epoch 7/10\n",
            " - 111s - loss: 0.5426 - categorical_accuracy: 0.7167 - val_loss: 0.5526 - val_categorical_accuracy: 0.7500\n",
            "Epoch 8/10\n",
            " - 111s - loss: 0.5210 - categorical_accuracy: 0.7487 - val_loss: 0.4791 - val_categorical_accuracy: 0.6875\n",
            "Epoch 9/10\n",
            " - 111s - loss: 0.5370 - categorical_accuracy: 0.7207 - val_loss: 0.6067 - val_categorical_accuracy: 0.6875\n",
            "Epoch 10/10\n",
            " - 111s - loss: 0.5177 - categorical_accuracy: 0.7453 - val_loss: 0.6656 - val_categorical_accuracy: 0.6250\n"
          ],
          "name": "stdout"
        },
        {
          "output_type": "execute_result",
          "data": {
            "text/plain": [
              "<keras.callbacks.History at 0x7fbd6b248358>"
            ]
          },
          "metadata": {
            "tags": []
          },
          "execution_count": 21
        }
      ]
    },
    {
      "cell_type": "markdown",
      "metadata": {
        "colab_type": "text",
        "id": "PQfcLNwD_vAV"
      },
      "source": [
        "# Test "
      ]
    },
    {
      "cell_type": "code",
      "metadata": {
        "colab_type": "code",
        "id": "-0dsxU3-_vAY",
        "colab": {}
      },
      "source": [
        "test_img,test_label=next(test_batches)\n"
      ],
      "execution_count": 0,
      "outputs": []
    },
    {
      "cell_type": "markdown",
      "metadata": {
        "colab_type": "text",
        "id": "hTlsbYLY_vAb"
      },
      "source": [
        "Here the values of the index of 1 appear in hot code. 0 means [1,0] and 1 means [0,1]"
      ]
    },
    {
      "cell_type": "code",
      "metadata": {
        "colab_type": "code",
        "id": "jEJjWaq4_vAe",
        "outputId": "3d8e9d1a-3a4a-404d-b09f-166e300cd4ed",
        "colab": {
          "base_uri": "https://localhost:8080/",
          "height": 35
        }
      },
      "source": [
        "test_batches.class_indices\n"
      ],
      "execution_count": 23,
      "outputs": [
        {
          "output_type": "execute_result",
          "data": {
            "text/plain": [
              "{'cats': 1, 'dogs': 0}"
            ]
          },
          "metadata": {
            "tags": []
          },
          "execution_count": 23
        }
      ]
    },
    {
      "cell_type": "code",
      "metadata": {
        "colab_type": "code",
        "id": "H1gGOBZt_vAj",
        "outputId": "d76c58b7-1f0b-4db6-9b7d-b966961312aa",
        "colab": {
          "base_uri": "https://localhost:8080/",
          "height": 269
        }
      },
      "source": [
        "for i in range(0,1):\n",
        "    image = test_img[i]\n",
        "    plt.imshow(image[:,:,0], cmap='gray')\n",
        "    plt.show()    \n",
        "    "
      ],
      "execution_count": 24,
      "outputs": [
        {
          "output_type": "display_data",
          "data": {
            "image/png": "[encoded data removed]",
            "text/plain": [
              "<Figure size 432x288 with 1 Axes>"
            ]
          },
          "metadata": {
            "tags": []
          }
        }
      ]
    },
    {
      "cell_type": "code",
      "metadata": {
        "colab_type": "code",
        "id": "gwDgaOhV_vAo",
        "outputId": "87156561-9dea-4b1d-eb08-2413ea5593a4",
        "colab": {
          "base_uri": "https://localhost:8080/",
          "height": 35
        }
      },
      "source": [
        "test_label[:,0]\n"
      ],
      "execution_count": 25,
      "outputs": [
        {
          "output_type": "execute_result",
          "data": {
            "text/plain": [
              "array([1., 0., 1., 0.], dtype=float32)"
            ]
          },
          "metadata": {
            "tags": []
          },
          "execution_count": 25
        }
      ]
    },
    {
      "cell_type": "code",
      "metadata": {
        "colab_type": "code",
        "id": "G11eOZAF_vAs",
        "colab": {}
      },
      "source": [
        "predictor=model.predict_generator(test_batches,steps=1,verbose=0)\n"
      ],
      "execution_count": 0,
      "outputs": []
    },
    {
      "cell_type": "code",
      "metadata": {
        "colab_type": "code",
        "id": "4asB3f1i_vAx",
        "outputId": "f4607a12-9cbe-4b68-84a4-f453d6653dee",
        "colab": {
          "base_uri": "https://localhost:8080/",
          "height": 35
        }
      },
      "source": [
        "predictor[:,0].shape\n"
      ],
      "execution_count": 27,
      "outputs": [
        {
          "output_type": "execute_result",
          "data": {
            "text/plain": [
              "(4,)"
            ]
          },
          "metadata": {
            "tags": []
          },
          "execution_count": 27
        }
      ]
    },
    {
      "cell_type": "code",
      "metadata": {
        "colab_type": "code",
        "id": "vYd0aa8A_vA0",
        "outputId": "6d87bd82-a2dc-474b-d7cb-9b49f9c56f5d",
        "colab": {
          "base_uri": "https://localhost:8080/",
          "height": 35
        }
      },
      "source": [
        "from sklearn.metrics import accuracy_score \n",
        "accuracy_score(test_label[:,0], predictor[:,0].round(), normalize=False)"
      ],
      "execution_count": 28,
      "outputs": [
        {
          "output_type": "execute_result",
          "data": {
            "text/plain": [
              "3"
            ]
          },
          "metadata": {
            "tags": []
          },
          "execution_count": 28
        }
      ]
    },
    {
      "cell_type": "code",
      "metadata": {
        "colab_type": "code",
        "id": "skg3GQV-_vA3",
        "outputId": "55764232-85a0-4a42-92a3-43c310a04ca6",
        "colab": {
          "base_uri": "https://localhost:8080/",
          "height": 52
        }
      },
      "source": [
        "confusion_matrix(test_label[:,0],predictor[:,0].round())\n"
      ],
      "execution_count": 29,
      "outputs": [
        {
          "output_type": "execute_result",
          "data": {
            "text/plain": [
              "array([[1, 1],\n",
              "       [0, 2]])"
            ]
          },
          "metadata": {
            "tags": []
          },
          "execution_count": 29
        }
      ]
    },
    {
      "cell_type": "code",
      "metadata": {
        "colab_type": "code",
        "id": "0SWj-8UZ_vA7",
        "colab": {}
      },
      "source": [
        "model.save('dog_cat_CNN.model')\n"
      ],
      "execution_count": 0,
      "outputs": []
    },
    {
      "cell_type": "markdown",
      "metadata": {
        "colab_type": "text",
        "id": "i6DmUqmP_vA-"
      },
      "source": [
        "Get 10 sample of the batches"
      ]
    }
  ]
}