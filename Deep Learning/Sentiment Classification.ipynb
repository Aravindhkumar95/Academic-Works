{
  "nbformat": 4,
  "nbformat_minor": 0,
  "metadata": {
    "colab": {
      "name": "Deep_Learning_Assingment_3.ipynb",
      "provenance": [],
      "collapsed_sections": []
    },
    "kernelspec": {
      "name": "python3",
      "display_name": "Python 3"
    }
  },
  "cells": [
    {
      "cell_type": "code",
      "metadata": {
        "id": "jhODlfm7stry",
        "colab_type": "code",
        "colab": {
          "base_uri": "https://localhost:8080/",
          "height": 35
        },
        "outputId": "baf47cf5-40e6-4a1d-d70e-61e33a12f070"
      },
      "source": [
        "%tensorflow_version 1.x "
      ],
      "execution_count": 1,
      "outputs": [
        {
          "output_type": "stream",
          "text": [
            "TensorFlow 1.x selected.\n"
          ],
          "name": "stdout"
        }
      ]
    },
    {
      "cell_type": "code",
      "metadata": {
        "id": "TzWrsbHBX6jb",
        "colab_type": "code",
        "colab": {}
      },
      "source": [
        "import pandas as pd\n",
        "import numpy as np"
      ],
      "execution_count": 0,
      "outputs": []
    },
    {
      "cell_type": "code",
      "metadata": {
        "id": "2n01GMJcaBTh",
        "colab_type": "code",
        "colab": {
          "base_uri": "https://localhost:8080/",
          "height": 202
        },
        "outputId": "c696d690-f9ff-4546-a382-31381d5d1727"
      },
      "source": [
        "df = pd.DataFrame()\n",
        "df = pd.read_csv('/content/drive/My Drive/movie_data.csv', encoding='utf-8')\n",
        "df.head()"
      ],
      "execution_count": 23,
      "outputs": [
        {
          "output_type": "execute_result",
          "data": {
            "text/html": [
              "<div>\n",
              "<style scoped>\n",
              "    .dataframe tbody tr th:only-of-type {\n",
              "        vertical-align: middle;\n",
              "    }\n",
              "\n",
              "    .dataframe tbody tr th {\n",
              "        vertical-align: top;\n",
              "    }\n",
              "\n",
              "    .dataframe thead th {\n",
              "        text-align: right;\n",
              "    }\n",
              "</style>\n",
              "<table border=\"1\" class=\"dataframe\">\n",
              "  <thead>\n",
              "    <tr style=\"text-align: right;\">\n",
              "      <th></th>\n",
              "      <th>review</th>\n",
              "      <th>sentiment</th>\n",
              "    </tr>\n",
              "  </thead>\n",
              "  <tbody>\n",
              "    <tr>\n",
              "      <th>0</th>\n",
              "      <td>I went and saw this movie last night after bei...</td>\n",
              "      <td>1</td>\n",
              "    </tr>\n",
              "    <tr>\n",
              "      <th>1</th>\n",
              "      <td>Actor turned director Bill Paxton follows up h...</td>\n",
              "      <td>1</td>\n",
              "    </tr>\n",
              "    <tr>\n",
              "      <th>2</th>\n",
              "      <td>As a recreational golfer with some knowledge o...</td>\n",
              "      <td>1</td>\n",
              "    </tr>\n",
              "    <tr>\n",
              "      <th>3</th>\n",
              "      <td>I saw this film in a sneak preview, and it is ...</td>\n",
              "      <td>1</td>\n",
              "    </tr>\n",
              "    <tr>\n",
              "      <th>4</th>\n",
              "      <td>Bill Paxton has taken the true story of the 19...</td>\n",
              "      <td>1</td>\n",
              "    </tr>\n",
              "  </tbody>\n",
              "</table>\n",
              "</div>"
            ],
            "text/plain": [
              "                                              review  sentiment\n",
              "0  I went and saw this movie last night after bei...          1\n",
              "1  Actor turned director Bill Paxton follows up h...          1\n",
              "2  As a recreational golfer with some knowledge o...          1\n",
              "3  I saw this film in a sneak preview, and it is ...          1\n",
              "4  Bill Paxton has taken the true story of the 19...          1"
            ]
          },
          "metadata": {
            "tags": []
          },
          "execution_count": 23
        }
      ]
    },
    {
      "cell_type": "code",
      "metadata": {
        "id": "a7ono6Tmab40",
        "colab_type": "code",
        "colab": {}
      },
      "source": [
        "xtrain = df.loc[:24999,'review'].values\n",
        "ytrain = df.loc[:24999,'sentiment'].values\n",
        "xtest = df.loc[25000:,'review'].values\n",
        "ytest = df.loc[25000:,'sentiment'].values"
      ],
      "execution_count": 0,
      "outputs": []
    },
    {
      "cell_type": "markdown",
      "metadata": {
        "id": "yBW71Hc3TTOP",
        "colab_type": "text"
      },
      "source": [
        ""
      ]
    },
    {
      "cell_type": "markdown",
      "metadata": {
        "id": "ECyuvhYJTVFa",
        "colab_type": "text"
      },
      "source": [
        "## SENTIMENT CLASSIFICAITON"
      ]
    },
    {
      "cell_type": "code",
      "metadata": {
        "id": "i7RvpjercOnT",
        "colab_type": "code",
        "colab": {}
      },
      "source": [
        "from tensorflow.python.keras.preprocessing.text import Tokenizer\n",
        "from tensorflow.python.keras.preprocessing.sequence import pad_sequences"
      ],
      "execution_count": 0,
      "outputs": []
    },
    {
      "cell_type": "code",
      "metadata": {
        "id": "sZcxPGe7dUPh",
        "colab_type": "code",
        "colab": {}
      },
      "source": [
        "x = xtrain + xtest\n",
        "y = ytrain + ytest"
      ],
      "execution_count": 0,
      "outputs": []
    },
    {
      "cell_type": "code",
      "metadata": {
        "id": "z2fyJR2sdnCA",
        "colab_type": "code",
        "colab": {}
      },
      "source": [
        "tokenizer_obj = Tokenizer()\n",
        "tokenizer_obj.fit_on_texts(x)"
      ],
      "execution_count": 0,
      "outputs": []
    },
    {
      "cell_type": "code",
      "metadata": {
        "id": "B9gOeArVdztE",
        "colab_type": "code",
        "colab": {}
      },
      "source": [
        "#pad sequences\n",
        "maxlength = 100"
      ],
      "execution_count": 0,
      "outputs": []
    },
    {
      "cell_type": "code",
      "metadata": {
        "id": "8skOY_dzfnrP",
        "colab_type": "code",
        "colab": {}
      },
      "source": [
        "#define vocabulary size\n",
        "vocabsize = len(tokenizer_obj.word_index) + 1"
      ],
      "execution_count": 0,
      "outputs": []
    },
    {
      "cell_type": "code",
      "metadata": {
        "id": "b0Hy_oPwgpLd",
        "colab_type": "code",
        "colab": {}
      },
      "source": [
        "xtrain_tokens = tokenizer_obj.texts_to_sequences(xtrain)\n",
        "xtest_tokens = tokenizer_obj.texts_to_sequences(xtest)"
      ],
      "execution_count": 0,
      "outputs": []
    },
    {
      "cell_type": "code",
      "metadata": {
        "id": "bl5oxVDBgyjU",
        "colab_type": "code",
        "colab": {}
      },
      "source": [
        "xtrain_pad = pad_sequences(xtrain_tokens, maxlen=maxlength, padding='post')\n",
        "xtest_pad = pad_sequences(xtest_tokens, maxlen=maxlength, padding='post')"
      ],
      "execution_count": 0,
      "outputs": []
    },
    {
      "cell_type": "code",
      "metadata": {
        "id": "w7y6OblWjo7-",
        "colab_type": "code",
        "colab": {
          "base_uri": "https://localhost:8080/",
          "height": 35
        },
        "outputId": "45d85fb7-f749-4da4-ed71-60b284f9501c"
      },
      "source": [
        "from keras.models import Sequential\n",
        "from keras.layers import Dense, Embedding, LSTM, GRU\n",
        "from keras.layers.embeddings import Embedding\n",
        "\n",
        "EMBEDDDING_DIM = 100\n",
        "\n",
        "print('Build model....')\n",
        "model = Sequential()\n",
        "model.add(Embedding(vocabsize, EMBEDDDING_DIM, input_length = maxlength))\n",
        "model.add(GRU(units=32, dropout=0.2, recurrent_dropout=0.2))\n",
        "model.add(Dense(1, activation='sigmoid'))"
      ],
      "execution_count": 49,
      "outputs": [
        {
          "output_type": "stream",
          "text": [
            "Build model....\n"
          ],
          "name": "stdout"
        }
      ]
    },
    {
      "cell_type": "code",
      "metadata": {
        "id": "7U9-5bHUxm3t",
        "colab_type": "code",
        "colab": {
          "base_uri": "https://localhost:8080/",
          "height": 35
        },
        "outputId": "b24fe795-0ff7-4067-b559-6f21cd69dd2e"
      },
      "source": [
        "Embedding(vocabsize, EMBEDDDING_DIM, input_length=maxlength)"
      ],
      "execution_count": 39,
      "outputs": [
        {
          "output_type": "execute_result",
          "data": {
            "text/plain": [
              "<keras.layers.embeddings.Embedding at 0x7f4b914a6ba8>"
            ]
          },
          "metadata": {
            "tags": []
          },
          "execution_count": 39
        }
      ]
    },
    {
      "cell_type": "code",
      "metadata": {
        "id": "O0N6iX9KnaWd",
        "colab_type": "code",
        "colab": {}
      },
      "source": [
        "model.compile(loss='binary_crossentropy', optimizer='adam', metrics=['accuracy'])"
      ],
      "execution_count": 0,
      "outputs": []
    },
    {
      "cell_type": "code",
      "metadata": {
        "id": "8OIl54MGoFwS",
        "colab_type": "code",
        "colab": {
          "base_uri": "https://localhost:8080/",
          "height": 260
        },
        "outputId": "405947c2-4c72-49d5-d589-e2b5ee0a913b"
      },
      "source": [
        "model.summary()"
      ],
      "execution_count": 51,
      "outputs": [
        {
          "output_type": "stream",
          "text": [
            "Model: \"sequential_1\"\n",
            "_________________________________________________________________\n",
            "Layer (type)                 Output Shape              Param #   \n",
            "=================================================================\n",
            "embedding_1 (Embedding)      (None, 100, 100)          12560200  \n",
            "_________________________________________________________________\n",
            "gru_1 (GRU)                  (None, 32)                12768     \n",
            "_________________________________________________________________\n",
            "dense_1 (Dense)              (None, 1)                 33        \n",
            "=================================================================\n",
            "Total params: 12,573,001\n",
            "Trainable params: 12,573,001\n",
            "Non-trainable params: 0\n",
            "_________________________________________________________________\n"
          ],
          "name": "stdout"
        }
      ]
    },
    {
      "cell_type": "code",
      "metadata": {
        "id": "-xhHablsoJ5_",
        "colab_type": "code",
        "colab": {
          "base_uri": "https://localhost:8080/",
          "height": 243
        },
        "outputId": "403518b7-ee77-4c4d-ed61-57245349fbd7"
      },
      "source": [
        "print('Train...')\n",
        "\n",
        "model.fit(xtrain_pad, ytrain, batch_size=128, epochs=5, validation_data=(xtest_pad, ytest), verbose=2)"
      ],
      "execution_count": 52,
      "outputs": [
        {
          "output_type": "stream",
          "text": [
            "Train...\n",
            "Train on 25000 samples, validate on 25000 samples\n",
            "Epoch 1/5\n",
            " - 51s - loss: 0.6077 - accuracy: 0.6964 - val_loss: 0.5756 - val_accuracy: 0.6916\n",
            "Epoch 2/5\n",
            " - 51s - loss: 0.3973 - accuracy: 0.8268 - val_loss: 0.5492 - val_accuracy: 0.7150\n",
            "Epoch 3/5\n",
            " - 50s - loss: 0.3248 - accuracy: 0.8675 - val_loss: 0.5670 - val_accuracy: 0.7044\n",
            "Epoch 4/5\n",
            " - 51s - loss: 0.2922 - accuracy: 0.8818 - val_loss: 0.5822 - val_accuracy: 0.7012\n",
            "Epoch 5/5\n",
            " - 53s - loss: 0.2228 - accuracy: 0.9158 - val_loss: 0.5950 - val_accuracy: 0.7048\n"
          ],
          "name": "stdout"
        },
        {
          "output_type": "execute_result",
          "data": {
            "text/plain": [
              "<keras.callbacks.callbacks.History at 0x7f4ba894dbe0>"
            ]
          },
          "metadata": {
            "tags": []
          },
          "execution_count": 52
        }
      ]
    },
    {
      "cell_type": "code",
      "metadata": {
        "id": "XcAu1hy2yKw8",
        "colab_type": "code",
        "colab": {
          "base_uri": "https://localhost:8080/",
          "height": 156
        },
        "outputId": "cd70c130-9ef0-4e11-c58d-84d3f428759e"
      },
      "source": [
        "#Let us test some  samples\n",
        "sample_1 = \"This movie is fantastic! I really like it because it is so good!\"\n",
        "sample_2 = \"Director has visualised the story line in detail\"\n",
        "sample_3 = \"Awesome movie.\"\n",
        "sample_4 = \"Not to my taste, will skip and watch another movie\"\n",
        "sample_5 = \"if you like action, then this movie might be good for you.\"\n",
        "sample_6 = \"Bad movie!\"\n",
        "sample_7 = \"Not a good movie!\"\n",
        "sample_8 = \"This movie really sucks! Can I get my money back please?\"\n",
        "samples = [sample_1, sample_2, sample_3, sample_4, sample_5, sample_6, sample_7, sample_8]\n",
        "\n",
        "samples_tokens = tokenizer_obj.texts_to_sequences(samples)\n",
        "samples_tokens_pad = pad_sequences(samples_tokens, maxlen=maxlength)\n",
        "\n",
        "#predict\n",
        "model.predict(x=samples_tokens_pad)"
      ],
      "execution_count": 53,
      "outputs": [
        {
          "output_type": "execute_result",
          "data": {
            "text/plain": [
              "array([[0.89168656],\n",
              "       [0.8835851 ],\n",
              "       [0.9091923 ],\n",
              "       [0.04754969],\n",
              "       [0.60370624],\n",
              "       [0.11528671],\n",
              "       [0.53573734],\n",
              "       [0.05465543]], dtype=float32)"
            ]
          },
          "metadata": {
            "tags": []
          },
          "execution_count": 53
        }
      ]
    },
    {
      "cell_type": "markdown",
      "metadata": {
        "id": "3tD-hhpWTDZa",
        "colab_type": "text"
      },
      "source": [
        "## Train word2vec Embedding"
      ]
    },
    {
      "cell_type": "code",
      "metadata": {
        "id": "ioWFWq3B3Hgd",
        "colab_type": "code",
        "colab": {}
      },
      "source": [
        "%matplotlib inline"
      ],
      "execution_count": 0,
      "outputs": []
    },
    {
      "cell_type": "code",
      "metadata": {
        "id": "RmXPd5uR3T1q",
        "colab_type": "code",
        "colab": {
          "base_uri": "https://localhost:8080/",
          "height": 104
        },
        "outputId": "390933b5-2fd6-452b-e164-33d7cdbc2d70"
      },
      "source": [
        "import matplotlib.pyplot as plt\n",
        "import nltk\n",
        "nltk.download('punkt')\n",
        "nltk.download('stopwords')"
      ],
      "execution_count": 55,
      "outputs": [
        {
          "output_type": "stream",
          "text": [
            "[nltk_data] Downloading package punkt to /root/nltk_data...\n",
            "[nltk_data]   Unzipping tokenizers/punkt.zip.\n",
            "[nltk_data] Downloading package stopwords to /root/nltk_data...\n",
            "[nltk_data]   Unzipping corpora/stopwords.zip.\n"
          ],
          "name": "stdout"
        },
        {
          "output_type": "execute_result",
          "data": {
            "text/plain": [
              "True"
            ]
          },
          "metadata": {
            "tags": []
          },
          "execution_count": 55
        }
      ]
    },
    {
      "cell_type": "code",
      "metadata": {
        "id": "Re3uI6Wf3UtV",
        "colab_type": "code",
        "colab": {}
      },
      "source": [
        "import string\n",
        "from nltk.tokenize import word_tokenize\n",
        "from nltk.corpus import stopwords"
      ],
      "execution_count": 0,
      "outputs": []
    },
    {
      "cell_type": "code",
      "metadata": {
        "id": "nM7GcM-t8dx9",
        "colab_type": "code",
        "colab": {}
      },
      "source": [
        "review_lines=list()\n",
        "lines = df['review'].values.tolist()\n",
        "\n",
        "for line in lines:\n",
        "  tokens = word_tokenize(line)\n",
        "  #converting into lower case\n",
        "  tokens = [w.lower() for w in tokens]\n",
        "  #removing punctuation\n",
        "  table = str.maketrans('','',string.punctuation)\n",
        "  stripped = [w.translate(table) for w in tokens]\n",
        "  #remove remaining tokens that are not alphabetic\n",
        "  words = [word for word in stripped if word.isalpha()]\n",
        "  #filter out stop words\n",
        "  stop_words = set(stopwords.words('english'))\n",
        "  words = [w for w in words if not w in stop_words]\n",
        "  review_lines.append(words)"
      ],
      "execution_count": 0,
      "outputs": []
    },
    {
      "cell_type": "code",
      "metadata": {
        "id": "wU_AxW7h_OG2",
        "colab_type": "code",
        "colab": {
          "base_uri": "https://localhost:8080/",
          "height": 35
        },
        "outputId": "1ce0a2d3-12f7-45df-ebcc-227d3414f19d"
      },
      "source": [
        "len(review_lines)"
      ],
      "execution_count": 58,
      "outputs": [
        {
          "output_type": "execute_result",
          "data": {
            "text/plain": [
              "50000"
            ]
          },
          "metadata": {
            "tags": []
          },
          "execution_count": 58
        }
      ]
    },
    {
      "cell_type": "code",
      "metadata": {
        "id": "_ZkpH18h_14R",
        "colab_type": "code",
        "colab": {
          "base_uri": "https://localhost:8080/",
          "height": 35
        },
        "outputId": "a9b72dd8-1004-4c0f-d4cb-4decf4a350ff"
      },
      "source": [
        "import gensim\n",
        "\n",
        "#train word2vec model\n",
        "model = gensim.models.Word2Vec(sentences=review_lines, size=EMBEDDDING_DIM, window=5, workers=4, min_count=1)\n",
        "\n",
        "#vocab size\n",
        "words = list(model.wv.vocab)\n",
        "print('Vocabulary size: %d' % len(words))"
      ],
      "execution_count": 63,
      "outputs": [
        {
          "output_type": "stream",
          "text": [
            "Vocabulary size: 134156\n"
          ],
          "name": "stdout"
        }
      ]
    },
    {
      "cell_type": "code",
      "metadata": {
        "id": "JtXJT_MAAWWZ",
        "colab_type": "code",
        "colab": {
          "base_uri": "https://localhost:8080/",
          "height": 245
        },
        "outputId": "86e25a40-77da-44f5-92ce-13345bd944b0"
      },
      "source": [
        "model.wv.most_similar('horrible')"
      ],
      "execution_count": 64,
      "outputs": [
        {
          "output_type": "stream",
          "text": [
            "/usr/local/lib/python3.6/dist-packages/gensim/matutils.py:737: FutureWarning: Conversion of the second argument of issubdtype from `int` to `np.signedinteger` is deprecated. In future, it will be treated as `np.int64 == np.dtype(int).type`.\n",
            "  if np.issubdtype(vec.dtype, np.int):\n"
          ],
          "name": "stderr"
        },
        {
          "output_type": "execute_result",
          "data": {
            "text/plain": [
              "[('terrible', 0.9191679954528809),\n",
              " ('awful', 0.8707277774810791),\n",
              " ('atrocious', 0.7795190811157227),\n",
              " ('dreadful', 0.771564245223999),\n",
              " ('horrendous', 0.7708115577697754),\n",
              " ('pathetic', 0.7673578858375549),\n",
              " ('lousy', 0.7419604063034058),\n",
              " ('sucks', 0.7410047054290771),\n",
              " ('horrid', 0.7321884036064148),\n",
              " ('ridiculous', 0.7216708660125732)]"
            ]
          },
          "metadata": {
            "tags": []
          },
          "execution_count": 64
        }
      ]
    },
    {
      "cell_type": "code",
      "metadata": {
        "id": "7lT_nxV4BrMF",
        "colab_type": "code",
        "colab": {
          "base_uri": "https://localhost:8080/",
          "height": 245
        },
        "outputId": "fca8110d-7d16-49ea-d9d0-14b341d2f083"
      },
      "source": [
        "model.wv.most_similar('good')"
      ],
      "execution_count": 65,
      "outputs": [
        {
          "output_type": "stream",
          "text": [
            "/usr/local/lib/python3.6/dist-packages/gensim/matutils.py:737: FutureWarning: Conversion of the second argument of issubdtype from `int` to `np.signedinteger` is deprecated. In future, it will be treated as `np.int64 == np.dtype(int).type`.\n",
            "  if np.issubdtype(vec.dtype, np.int):\n"
          ],
          "name": "stderr"
        },
        {
          "output_type": "execute_result",
          "data": {
            "text/plain": [
              "[('decent', 0.787473738193512),\n",
              " ('great', 0.7331076264381409),\n",
              " ('ok', 0.6903510093688965),\n",
              " ('fine', 0.6828722357749939),\n",
              " ('alright', 0.6828575134277344),\n",
              " ('okay', 0.6733218431472778),\n",
              " ('excellent', 0.67041015625),\n",
              " ('bad', 0.6686191558837891),\n",
              " ('nice', 0.6590350866317749),\n",
              " ('solid', 0.6456297039985657)]"
            ]
          },
          "metadata": {
            "tags": []
          },
          "execution_count": 65
        }
      ]
    },
    {
      "cell_type": "code",
      "metadata": {
        "id": "2ge2rJo5B2hO",
        "colab_type": "code",
        "colab": {
          "base_uri": "https://localhost:8080/",
          "height": 245
        },
        "outputId": "9f658805-800d-4a9b-ac70-062122a6e9cd"
      },
      "source": [
        "model.wv.most_similar('beauty')"
      ],
      "execution_count": 66,
      "outputs": [
        {
          "output_type": "stream",
          "text": [
            "/usr/local/lib/python3.6/dist-packages/gensim/matutils.py:737: FutureWarning: Conversion of the second argument of issubdtype from `int` to `np.signedinteger` is deprecated. In future, it will be treated as `np.int64 == np.dtype(int).type`.\n",
            "  if np.issubdtype(vec.dtype, np.int):\n"
          ],
          "name": "stderr"
        },
        {
          "output_type": "execute_result",
          "data": {
            "text/plain": [
              "[('beautiful', 0.6723564863204956),\n",
              " ('portrait', 0.6509132385253906),\n",
              " ('simplicity', 0.6463258266448975),\n",
              " ('mediterraneans', 0.644288957118988),\n",
              " ('sensual', 0.6384891867637634),\n",
              " ('fleshly', 0.6334782242774963),\n",
              " ('poetic', 0.6330362558364868),\n",
              " ('messagethe', 0.6329184770584106),\n",
              " ('memorability', 0.632462739944458),\n",
              " ('passion', 0.6273937225341797)]"
            ]
          },
          "metadata": {
            "tags": []
          },
          "execution_count": 66
        }
      ]
    },
    {
      "cell_type": "code",
      "metadata": {
        "id": "65qbxqihB5Gf",
        "colab_type": "code",
        "colab": {
          "base_uri": "https://localhost:8080/",
          "height": 191
        },
        "outputId": "0ed4a0cb-d414-40d4-fb8f-21e17f37856a"
      },
      "source": [
        "#result of semantically reasonable word vectors\n",
        "model.wv.most_similar_cosmul(positive=['queen','king'], negative=['man'])"
      ],
      "execution_count": 67,
      "outputs": [
        {
          "output_type": "execute_result",
          "data": {
            "text/plain": [
              "[('moppets', 1.4002612829208374),\n",
              " ('romeo', 1.3400325775146484),\n",
              " ('littlebuddy', 1.3373264074325562),\n",
              " ('linklaters', 1.3069872856140137),\n",
              " ('brinkman', 1.2915101051330566),\n",
              " ('juliet', 1.2893790006637573),\n",
              " ('melieslike', 1.2708055973052979),\n",
              " ('les', 1.2425140142440796),\n",
              " ('la', 1.24093496799469),\n",
              " ('costello', 1.2406177520751953)]"
            ]
          },
          "metadata": {
            "tags": []
          },
          "execution_count": 67
        }
      ]
    },
    {
      "cell_type": "code",
      "metadata": {
        "id": "8zN3HiGQCqSx",
        "colab_type": "code",
        "colab": {
          "base_uri": "https://localhost:8080/",
          "height": 124
        },
        "outputId": "156e2939-59fa-4c65-ee92-90ea898fe1d9"
      },
      "source": [
        "#odd word out\n",
        "print(model.wv.doesnt_match('woman king queen movie'.split()))"
      ],
      "execution_count": 68,
      "outputs": [
        {
          "output_type": "stream",
          "text": [
            "movie\n"
          ],
          "name": "stdout"
        },
        {
          "output_type": "stream",
          "text": [
            "/usr/local/lib/python3.6/dist-packages/gensim/models/keyedvectors.py:895: FutureWarning: arrays to stack must be passed as a \"sequence\" type such as list or tuple. Support for non-sequence iterables such as generators is deprecated as of NumPy 1.16 and will raise an error in the future.\n",
            "  vectors = vstack(self.word_vec(word, use_norm=True) for word in used_words).astype(REAL)\n",
            "/usr/local/lib/python3.6/dist-packages/gensim/matutils.py:737: FutureWarning: Conversion of the second argument of issubdtype from `int` to `np.signedinteger` is deprecated. In future, it will be treated as `np.int64 == np.dtype(int).type`.\n",
            "  if np.issubdtype(vec.dtype, np.int):\n"
          ],
          "name": "stderr"
        }
      ]
    },
    {
      "cell_type": "code",
      "metadata": {
        "id": "QU7mSPzIC9Q4",
        "colab_type": "code",
        "colab": {
          "base_uri": "https://localhost:8080/",
          "height": 72
        },
        "outputId": "0a8cba42-48af-4c5f-f350-ef48f93d4882"
      },
      "source": [
        "#save model\n",
        "filename = 'imdb_embedding_word2vec.txt'\n",
        "model.wv.save_word2vec_format(filename, binary=False)"
      ],
      "execution_count": 69,
      "outputs": [
        {
          "output_type": "stream",
          "text": [
            "/usr/local/lib/python3.6/dist-packages/smart_open/smart_open_lib.py:253: UserWarning: This function is deprecated, use smart_open.open instead. See the migration notes for details: https://github.com/RaRe-Technologies/smart_open/blob/master/README.rst#migrating-to-the-new-open-function\n",
            "  'See the migration notes for details: %s' % _MIGRATION_NOTES_URL\n"
          ],
          "name": "stderr"
        }
      ]
    },
    {
      "cell_type": "code",
      "metadata": {
        "id": "PrcvjgLXDNxE",
        "colab_type": "code",
        "colab": {}
      },
      "source": [
        "import os\n",
        "embeddings_index = {}\n",
        "f = open(os.path.join('','imdb_embedding_word2vec.txt'), encoding='utf-8')\n",
        "for line in f:\n",
        "  values = line.split()\n",
        "  word = values[0]\n",
        "  coefs = np.asarray(values[1:])\n",
        "  embeddings_index[word] = coefs\n",
        "f.close()"
      ],
      "execution_count": 0,
      "outputs": []
    },
    {
      "cell_type": "code",
      "metadata": {
        "id": "MfPfUJ07D4eb",
        "colab_type": "code",
        "colab": {}
      },
      "source": [
        "#vectorize the text samples into a 2D integer tensor\n",
        "tokenizer_obj.fit_on_texts(review_lines)\n",
        "sequences = tokenizer_obj.texts_to_sequences(review_lines)"
      ],
      "execution_count": 0,
      "outputs": []
    },
    {
      "cell_type": "code",
      "metadata": {
        "id": "jpCbjHGgEm82",
        "colab_type": "code",
        "colab": {
          "base_uri": "https://localhost:8080/",
          "height": 35
        },
        "outputId": "92257e13-6a0e-495f-8020-f95d1661f78a"
      },
      "source": [
        "#pad sequeces\n",
        "word_index = tokenizer_obj.word_index\n",
        "print('Found %s unique tokens.'% len(word_index))"
      ],
      "execution_count": 72,
      "outputs": [
        {
          "output_type": "stream",
          "text": [
            "Found 163766 unique tokens.\n"
          ],
          "name": "stdout"
        }
      ]
    },
    {
      "cell_type": "code",
      "metadata": {
        "id": "AFLkWDEmE5fi",
        "colab_type": "code",
        "colab": {
          "base_uri": "https://localhost:8080/",
          "height": 52
        },
        "outputId": "5d40bc9a-a8ae-4862-c4eb-7294e6817e1e"
      },
      "source": [
        "review_pad = pad_sequences(sequences, maxlen=maxlength)\n",
        "sentiment = df['sentiment'].values\n",
        "print('Shape of review tensor:', review_pad.shape)\n",
        "print('Shape of sentiment tensor:', sentiment.shape)"
      ],
      "execution_count": 74,
      "outputs": [
        {
          "output_type": "stream",
          "text": [
            "Shape of review tensor: (50000, 100)\n",
            "Shape of sentiment tensor: (50000,)\n"
          ],
          "name": "stdout"
        }
      ]
    },
    {
      "cell_type": "code",
      "metadata": {
        "id": "sUQLFIC3FR2r",
        "colab_type": "code",
        "colab": {}
      },
      "source": [
        "num_words = len(word_index) + 1\n",
        "embedding_matrix = np.zeros((num_words, EMBEDDDING_DIM))\n",
        "\n",
        "for word, i in word_index.items():\n",
        "  if i > num_words:\n",
        "    continue\n",
        "  embedding_vector = embeddings_index.get(word)\n",
        "  if embedding_vector is not None:\n",
        "    embedding_matrix[i] = embedding_vector"
      ],
      "execution_count": 0,
      "outputs": []
    },
    {
      "cell_type": "code",
      "metadata": {
        "id": "8U-7hf4aGFEO",
        "colab_type": "code",
        "colab": {
          "base_uri": "https://localhost:8080/",
          "height": 35
        },
        "outputId": "0f52bf91-c648-49e6-ae1d-5e10c7f956c3"
      },
      "source": [
        "print(num_words)"
      ],
      "execution_count": 76,
      "outputs": [
        {
          "output_type": "stream",
          "text": [
            "163767\n"
          ],
          "name": "stdout"
        }
      ]
    },
    {
      "cell_type": "code",
      "metadata": {
        "id": "H8tvgdJPGV0W",
        "colab_type": "code",
        "colab": {}
      },
      "source": [
        "from keras.initializers import Constant"
      ],
      "execution_count": 0,
      "outputs": []
    },
    {
      "cell_type": "code",
      "metadata": {
        "id": "LmmzZvCcHC2g",
        "colab_type": "code",
        "colab": {}
      },
      "source": [
        "model = Sequential()\n",
        "embedding_layer = Embedding(num_words, EMBEDDDING_DIM, embeddings_initializer=Constant(embedding_matrix), \n",
        "                            input_length=maxlength, trainable=False)\n",
        "model.add(embedding_layer)\n",
        "model.add(GRU(units=32, dropout=0.2, recurrent_dropout=0.2))\n",
        "model.add(Dense(1, activation='sigmoid'))\n"
      ],
      "execution_count": 0,
      "outputs": []
    },
    {
      "cell_type": "code",
      "metadata": {
        "id": "OYQadN-sJG0b",
        "colab_type": "code",
        "colab": {}
      },
      "source": [
        "model.compile(loss='binary_crossentropy', optimizer='adam', metrics=['accuracy'])"
      ],
      "execution_count": 0,
      "outputs": []
    },
    {
      "cell_type": "code",
      "metadata": {
        "id": "L4krBFQHJQp6",
        "colab_type": "code",
        "colab": {
          "base_uri": "https://localhost:8080/",
          "height": 260
        },
        "outputId": "7ffa29f9-e453-4216-f852-847411d94f34"
      },
      "source": [
        "model.summary()"
      ],
      "execution_count": 80,
      "outputs": [
        {
          "output_type": "stream",
          "text": [
            "Model: \"sequential_2\"\n",
            "_________________________________________________________________\n",
            "Layer (type)                 Output Shape              Param #   \n",
            "=================================================================\n",
            "embedding_2 (Embedding)      (None, 100, 100)          16376700  \n",
            "_________________________________________________________________\n",
            "gru_2 (GRU)                  (None, 32)                12768     \n",
            "_________________________________________________________________\n",
            "dense_2 (Dense)              (None, 1)                 33        \n",
            "=================================================================\n",
            "Total params: 16,389,501\n",
            "Trainable params: 12,801\n",
            "Non-trainable params: 16,376,700\n",
            "_________________________________________________________________\n"
          ],
          "name": "stdout"
        }
      ]
    },
    {
      "cell_type": "code",
      "metadata": {
        "id": "JBg6aW0GJSef",
        "colab_type": "code",
        "colab": {}
      },
      "source": [
        "VALIDATION_SPLIT = 0.2"
      ],
      "execution_count": 0,
      "outputs": []
    },
    {
      "cell_type": "code",
      "metadata": {
        "id": "AZuY_w-mJYLg",
        "colab_type": "code",
        "colab": {}
      },
      "source": [
        "indices = np.arange(review_pad.shape[0])\n",
        "np.random.shuffle(indices)\n",
        "review_pad = review_pad[indices]\n",
        "sentiment = sentiment[indices]\n",
        "num_validation_samples = int(VALIDATION_SPLIT * review_pad.shape[0])"
      ],
      "execution_count": 0,
      "outputs": []
    },
    {
      "cell_type": "code",
      "metadata": {
        "id": "8FB-_M1fJ3oL",
        "colab_type": "code",
        "colab": {}
      },
      "source": [
        "x_train_pad = review_pad[:-num_validation_samples]\n",
        "y_train = sentiment[:-num_validation_samples]\n",
        "x_test_pad = review_pad[-num_validation_samples:]\n",
        "y_test = sentiment[-num_validation_samples:]"
      ],
      "execution_count": 0,
      "outputs": []
    },
    {
      "cell_type": "code",
      "metadata": {
        "id": "NCxdUx4nKBtM",
        "colab_type": "code",
        "colab": {
          "base_uri": "https://localhost:8080/",
          "height": 52
        },
        "outputId": "103f26cf-84f9-464b-d4f3-809906a645eb"
      },
      "source": [
        "print('Shape of x_train_pad tensor:', x_train_pad.shape)\n",
        "print('Shape of y_train tensor:', y_train.shape)\n"
      ],
      "execution_count": 84,
      "outputs": [
        {
          "output_type": "stream",
          "text": [
            "Shape of x_train_pad tensor: (40000, 100)\n",
            "Shape of y_train tensor: (40000,)\n"
          ],
          "name": "stdout"
        }
      ]
    },
    {
      "cell_type": "code",
      "metadata": {
        "id": "EAvycJO0KPE2",
        "colab_type": "code",
        "colab": {
          "base_uri": "https://localhost:8080/",
          "height": 52
        },
        "outputId": "1867d0d4-bfb8-4f1e-da68-3b61833764f3"
      },
      "source": [
        "print('Shape of x_test_pad tensor:', x_test_pad.shape)\n",
        "print('Shape of y_test tensor:', y_test.shape)"
      ],
      "execution_count": 85,
      "outputs": [
        {
          "output_type": "stream",
          "text": [
            "Shape of x_test_pad tensor: (10000, 100)\n",
            "Shape of y_test tensor: (10000,)\n"
          ],
          "name": "stdout"
        }
      ]
    },
    {
      "cell_type": "code",
      "metadata": {
        "id": "KY5ajqw5KZpx",
        "colab_type": "code",
        "colab": {
          "base_uri": "https://localhost:8080/",
          "height": 243
        },
        "outputId": "8bafab30-4489-4c38-8e9a-af7da592f1d4"
      },
      "source": [
        "print('Train..')\n",
        "model.fit(x_train_pad, y_train, batch_size=128, epochs=5, validation_data=(x_test_pad, y_test), verbose=2)"
      ],
      "execution_count": 88,
      "outputs": [
        {
          "output_type": "stream",
          "text": [
            "Train..\n",
            "Train on 40000 samples, validate on 10000 samples\n",
            "Epoch 1/5\n",
            " - 27s - loss: 1002.7482 - accuracy: 0.5313 - val_loss: 0.7024 - val_accuracy: 0.5418\n",
            "Epoch 2/5\n",
            " - 27s - loss: 16.1447 - accuracy: 0.5329 - val_loss: 0.6990 - val_accuracy: 0.5493\n",
            "Epoch 3/5\n",
            " - 27s - loss: 0.7216 - accuracy: 0.5337 - val_loss: 0.6977 - val_accuracy: 0.5501\n",
            "Epoch 4/5\n",
            " - 27s - loss: 1.1066 - accuracy: 0.5335 - val_loss: 0.6970 - val_accuracy: 0.5509\n",
            "Epoch 5/5\n",
            " - 27s - loss: 23.6599 - accuracy: 0.5386 - val_loss: 0.6956 - val_accuracy: 0.5575\n"
          ],
          "name": "stdout"
        },
        {
          "output_type": "execute_result",
          "data": {
            "text/plain": [
              "<keras.callbacks.callbacks.History at 0x7f4b72d92a58>"
            ]
          },
          "metadata": {
            "tags": []
          },
          "execution_count": 88
        }
      ]
    },
    {
      "cell_type": "code",
      "metadata": {
        "id": "L16kYQ-0KoA3",
        "colab_type": "code",
        "colab": {}
      },
      "source": [
        ""
      ],
      "execution_count": 0,
      "outputs": []
    }
  ]
}